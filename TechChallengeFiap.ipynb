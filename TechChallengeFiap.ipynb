{
  "nbformat": 4,
  "nbformat_minor": 0,
  "metadata": {
    "colab": {
      "provenance": []
    },
    "kernelspec": {
      "name": "python3",
      "display_name": "Python 3"
    },
    "language_info": {
      "name": "python"
    }
  },
  "cells": [
    {
      "cell_type": "markdown",
      "source": [
        "# Exploração de dados:"
      ],
      "metadata": {
        "id": "Lcr1OzqZM53J"
      }
    },
    {
      "cell_type": "markdown",
      "source": [
        "# Pré-processamento de dados:"
      ],
      "metadata": {
        "id": "qkXAnOhSNFWU"
      }
    },
    {
      "cell_type": "markdown",
      "source": [
        "# Modelagem"
      ],
      "metadata": {
        "id": "eY0IpuVFNVJI"
      }
    },
    {
      "cell_type": "markdown",
      "source": [
        "# Treinamento e avaliação do modelo:"
      ],
      "metadata": {
        "id": "CCtPgqr9NYBZ"
      }
    }
  ]
}