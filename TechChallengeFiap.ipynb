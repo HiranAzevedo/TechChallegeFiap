{
  "cells": [
    {
      "cell_type": "markdown",
      "metadata": {
        "id": "Lcr1OzqZM53J"
      },
      "source": [
        "# Exploração de dados:"
      ]
    },
    {
      "cell_type": "markdown",
      "metadata": {
        "id": "qkXAnOhSNFWU"
      },
      "source": [
        "# Pré-processamento de dados:"
      ]
    },
    {
      "cell_type": "markdown",
      "metadata": {
        "id": "eY0IpuVFNVJI"
      },
      "source": [
        "# Modelagem"
      ]
    },
    {
      "cell_type": "markdown",
      "metadata": {
        "id": "CCtPgqr9NYBZ"
      },
      "source": [
        "# Treinamento e avaliação do modelo:"
      ]
    },
    {
      "cell_type": "markdown",
      "metadata": {},
      "source": [
        "# Validação estatística"
      ]
    }
  ],
  "metadata": {
    "colab": {
      "provenance": []
    },
    "kernelspec": {
      "display_name": "Python 3",
      "name": "python3"
    },
    "language_info": {
      "name": "python",
      "version": "3.13.2"
    }
  },
  "nbformat": 4,
  "nbformat_minor": 0
}
